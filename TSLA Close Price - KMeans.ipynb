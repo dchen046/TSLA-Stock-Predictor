{
 "cells": [
  {
   "cell_type": "markdown",
   "metadata": {},
   "source": [
    "# K Means Clustering"
   ]
  },
  {
   "cell_type": "code",
   "execution_count": 1,
   "metadata": {},
   "outputs": [],
   "source": [
    "# Importing the libraries to be used:\n",
    "import numpy as np\n",
    "import pandas as pd\n",
    "from sklearn import linear_model\n",
    "from sklearn import svm\n",
    "from sklearn.cluster import KMeans\n",
    "from sklearn.linear_model import LogisticRegression\n",
    "from sklearn.model_selection import train_test_split \n",
    "from sklearn.preprocessing import PolynomialFeatures\n",
    "from sklearn.metrics import accuracy_score\n",
    "import matplotlib.pyplot as plt\n",
    "%matplotlib inline "
   ]
  },
  {
   "cell_type": "code",
   "execution_count": 15,
   "metadata": {},
   "outputs": [
    {
     "name": "stdout",
     "output_type": "stream",
     "text": [
      "[[0.0000000e+00 3.8000000e+00 5.0000000e+00 3.5080000e+00]\n",
      " [1.0000000e+00 5.1580000e+00 6.0840000e+00 4.6600000e+00]\n",
      " [2.0000000e+00 5.0000000e+00 5.1840000e+00 4.0540000e+00]\n",
      " ...\n",
      " [2.1390000e+03 6.3967999e+01 6.4433998e+01 6.0299999e+01]\n",
      " [2.1400000e+03 6.4620003e+01 6.7248001e+01 6.3681999e+01]\n",
      " [2.1410000e+03 6.7557999e+01 6.7842003e+01 6.5052002e+01]]\n"
     ]
    },
    {
     "data": {
      "text/html": [
       "<div>\n",
       "<style scoped>\n",
       "    .dataframe tbody tr th:only-of-type {\n",
       "        vertical-align: middle;\n",
       "    }\n",
       "\n",
       "    .dataframe tbody tr th {\n",
       "        vertical-align: top;\n",
       "    }\n",
       "\n",
       "    .dataframe thead th {\n",
       "        text-align: right;\n",
       "    }\n",
       "</style>\n",
       "<table border=\"1\" class=\"dataframe\">\n",
       "  <thead>\n",
       "    <tr style=\"text-align: right;\">\n",
       "      <th></th>\n",
       "      <th>Date</th>\n",
       "      <th>Open</th>\n",
       "      <th>High</th>\n",
       "      <th>Low</th>\n",
       "      <th>Close</th>\n",
       "      <th>Adj Close</th>\n",
       "      <th>Volume</th>\n",
       "    </tr>\n",
       "  </thead>\n",
       "  <tbody>\n",
       "    <tr>\n",
       "      <th>2137</th>\n",
       "      <td>2018-12-24</td>\n",
       "      <td>62.700001</td>\n",
       "      <td>62.900002</td>\n",
       "      <td>59.040001</td>\n",
       "      <td>59.077999</td>\n",
       "      <td>59.077999</td>\n",
       "      <td>27799500</td>\n",
       "    </tr>\n",
       "    <tr>\n",
       "      <th>2138</th>\n",
       "      <td>2018-12-26</td>\n",
       "      <td>60.000000</td>\n",
       "      <td>65.393997</td>\n",
       "      <td>58.818001</td>\n",
       "      <td>65.218002</td>\n",
       "      <td>65.218002</td>\n",
       "      <td>40815500</td>\n",
       "    </tr>\n",
       "    <tr>\n",
       "      <th>2139</th>\n",
       "      <td>2018-12-27</td>\n",
       "      <td>63.967999</td>\n",
       "      <td>64.433998</td>\n",
       "      <td>60.299999</td>\n",
       "      <td>63.226002</td>\n",
       "      <td>63.226002</td>\n",
       "      <td>42875500</td>\n",
       "    </tr>\n",
       "    <tr>\n",
       "      <th>2140</th>\n",
       "      <td>2018-12-28</td>\n",
       "      <td>64.620003</td>\n",
       "      <td>67.248001</td>\n",
       "      <td>63.681999</td>\n",
       "      <td>66.774002</td>\n",
       "      <td>66.774002</td>\n",
       "      <td>49695000</td>\n",
       "    </tr>\n",
       "    <tr>\n",
       "      <th>2141</th>\n",
       "      <td>2018-12-31</td>\n",
       "      <td>67.557999</td>\n",
       "      <td>67.842003</td>\n",
       "      <td>65.052002</td>\n",
       "      <td>66.559998</td>\n",
       "      <td>66.559998</td>\n",
       "      <td>31511500</td>\n",
       "    </tr>\n",
       "  </tbody>\n",
       "</table>\n",
       "</div>"
      ],
      "text/plain": [
       "            Date       Open       High        Low      Close  Adj Close  \\\n",
       "2137  2018-12-24  62.700001  62.900002  59.040001  59.077999  59.077999   \n",
       "2138  2018-12-26  60.000000  65.393997  58.818001  65.218002  65.218002   \n",
       "2139  2018-12-27  63.967999  64.433998  60.299999  63.226002  63.226002   \n",
       "2140  2018-12-28  64.620003  67.248001  63.681999  66.774002  66.774002   \n",
       "2141  2018-12-31  67.557999  67.842003  65.052002  66.559998  66.559998   \n",
       "\n",
       "        Volume  \n",
       "2137  27799500  \n",
       "2138  40815500  \n",
       "2139  42875500  \n",
       "2140  49695000  \n",
       "2141  31511500  "
      ]
     },
     "execution_count": 15,
     "metadata": {},
     "output_type": "execute_result"
    }
   ],
   "source": [
    "# Training Data\n",
    "df = pd.read_csv(\"TSLA-Data.csv\", header=0, na_values='?')\n",
    "df = df.dropna()\n",
    "# Get data and features are (Days since public, Open Pirce, Highest Price, Lowest Price), Volume is being discarded for SVM\n",
    "X = np.array(df[['Open', 'High', 'Low']])\n",
    "# Add days since public column\n",
    "days = np.arange(X.shape[0]).reshape(X.shape[0], 1)\n",
    "y = np.array(df['Close'])\n",
    "x = np.hstack((days, X))\n",
    "print(x)"
   ]
  },
  {
   "cell_type": "code",
   "execution_count": 14,
   "metadata": {},
   "outputs": [
    {
     "data": {
      "text/html": [
       "<div>\n",
       "<style scoped>\n",
       "    .dataframe tbody tr th:only-of-type {\n",
       "        vertical-align: middle;\n",
       "    }\n",
       "\n",
       "    .dataframe tbody tr th {\n",
       "        vertical-align: top;\n",
       "    }\n",
       "\n",
       "    .dataframe thead th {\n",
       "        text-align: right;\n",
       "    }\n",
       "</style>\n",
       "<table border=\"1\" class=\"dataframe\">\n",
       "  <thead>\n",
       "    <tr style=\"text-align: right;\">\n",
       "      <th></th>\n",
       "      <th>Date</th>\n",
       "      <th>Open</th>\n",
       "      <th>High</th>\n",
       "      <th>Low</th>\n",
       "      <th>Close</th>\n",
       "      <th>Adj Close</th>\n",
       "      <th>Volume</th>\n",
       "    </tr>\n",
       "  </thead>\n",
       "  <tbody>\n",
       "    <tr>\n",
       "      <th>247</th>\n",
       "      <td>2019-12-24</td>\n",
       "      <td>83.671997</td>\n",
       "      <td>85.094002</td>\n",
       "      <td>82.538002</td>\n",
       "      <td>85.050003</td>\n",
       "      <td>85.050003</td>\n",
       "      <td>40273500</td>\n",
       "    </tr>\n",
       "    <tr>\n",
       "      <th>248</th>\n",
       "      <td>2019-12-26</td>\n",
       "      <td>85.582001</td>\n",
       "      <td>86.695999</td>\n",
       "      <td>85.269997</td>\n",
       "      <td>86.188004</td>\n",
       "      <td>86.188004</td>\n",
       "      <td>53169500</td>\n",
       "    </tr>\n",
       "    <tr>\n",
       "      <th>249</th>\n",
       "      <td>2019-12-27</td>\n",
       "      <td>87.000000</td>\n",
       "      <td>87.061996</td>\n",
       "      <td>85.222000</td>\n",
       "      <td>86.075996</td>\n",
       "      <td>86.075996</td>\n",
       "      <td>49728500</td>\n",
       "    </tr>\n",
       "    <tr>\n",
       "      <th>250</th>\n",
       "      <td>2019-12-30</td>\n",
       "      <td>85.758003</td>\n",
       "      <td>85.800003</td>\n",
       "      <td>81.851997</td>\n",
       "      <td>82.940002</td>\n",
       "      <td>82.940002</td>\n",
       "      <td>62932000</td>\n",
       "    </tr>\n",
       "    <tr>\n",
       "      <th>251</th>\n",
       "      <td>2019-12-31</td>\n",
       "      <td>81.000000</td>\n",
       "      <td>84.258003</td>\n",
       "      <td>80.416000</td>\n",
       "      <td>83.666000</td>\n",
       "      <td>83.666000</td>\n",
       "      <td>51428500</td>\n",
       "    </tr>\n",
       "  </tbody>\n",
       "</table>\n",
       "</div>"
      ],
      "text/plain": [
       "           Date       Open       High        Low      Close  Adj Close  \\\n",
       "247  2019-12-24  83.671997  85.094002  82.538002  85.050003  85.050003   \n",
       "248  2019-12-26  85.582001  86.695999  85.269997  86.188004  86.188004   \n",
       "249  2019-12-27  87.000000  87.061996  85.222000  86.075996  86.075996   \n",
       "250  2019-12-30  85.758003  85.800003  81.851997  82.940002  82.940002   \n",
       "251  2019-12-31  81.000000  84.258003  80.416000  83.666000  83.666000   \n",
       "\n",
       "       Volume  \n",
       "247  40273500  \n",
       "248  53169500  \n",
       "249  49728500  \n",
       "250  62932000  \n",
       "251  51428500  "
      ]
     },
     "execution_count": 14,
     "metadata": {},
     "output_type": "execute_result"
    }
   ],
   "source": [
    "# Validation Data (Validation Set using 2019 data)\n",
    "df2 = pd.read_csv(\"TSLA-2019.csv\", header=0, na_values='?')\n",
    "df2 = df2.dropna()\n",
    "\n",
    "# Get data and features are (Days since public, Open Pirce, Highest Price, Lowest Price, Volume)\n",
    "X2 = np.array(df2[['Open', 'High', 'Low']])\n",
    "# Add days since public column\n",
    "days = np.arange(X.shape[0] + 1, X.shape[0] + X2.shape[0] + 1).reshape(X2.shape[0], 1)\n",
    "x2 = np.hstack((days, X2))\n",
    "y2 = np.array(df2['Close'])\n",
    "x = np.vstack((x, x2))\n",
    "y = y.reshape(y.shape[0], 1)\n",
    "y2 = y2.reshape(y2.shape[0], 1)\n",
    "y = np.vstack((y, y2))\n",
    "y = y.reshape(y.shape[0], )"
   ]
  },
  {
   "cell_type": "code",
   "execution_count": 4,
   "metadata": {},
   "outputs": [
    {
     "data": {
      "text/plain": [
       "KMeans(n_clusters=4, random_state=8)"
      ]
     },
     "execution_count": 4,
     "metadata": {},
     "output_type": "execute_result"
    }
   ],
   "source": [
    "clustering = KMeans(n_clusters = 4, random_state = 8)\n",
    "clustering.fit(x)\n",
    "#clustering.labels_"
   ]
  },
  {
   "cell_type": "code",
   "execution_count": 13,
   "metadata": {},
   "outputs": [
    {
     "data": {
      "text/plain": [
       "Text(0.5, 1.0, 'K-Means Clusters on Tesla Stock (TSLA)')"
      ]
     },
     "execution_count": 13,
     "metadata": {},
     "output_type": "execute_result"
    },
    {
     "data": {
      "image/png": "[encoded data removed]",
      "text/plain": [
       "<Figure size 432x288 with 1 Axes>"
      ]
     },
     "metadata": {
      "needs_background": "light"
     },
     "output_type": "display_data"
    }
   ],
   "source": [
    "plt.scatter(x[:, 0], y, c = 'black')\n",
    "plt.ylabel(\"Tesla Stock Price (TSLA)\")\n",
    "plt.xlabel(\"Days Public\")\n",
    "plt.title(\"K-Means Clusters on Tesla Stock (TSLA)\")"
   ]
  },
  {
   "cell_type": "code",
   "execution_count": 7,
   "metadata": {},
   "outputs": [
    {
     "data": {
      "text/plain": [
       "Text(0.5, 1.0, 'K-Means Clusters on Tesla Stock (TSLA)')"
      ]
     },
     "execution_count": 7,
     "metadata": {},
     "output_type": "execute_result"
    },
    {
     "data": {
      "image/png": "[encoded data removed]",
      "text/plain": [
       "<Figure size 432x288 with 1 Axes>"
      ]
     },
     "metadata": {
      "needs_background": "light"
     },
     "output_type": "display_data"
    }
   ],
   "source": [
    "color_theme = ['red', 'blue', 'gold', 'forestgreen']\n",
    "colors = []\n",
    "for c in clustering.labels_:\n",
    "    colors.append(color_theme[c])\n",
    "#Plot the clusters\n",
    "plt.scatter(x[:, 0], y, c = colors)\n",
    "#Plot the centroids\n",
    "#plt.scatter(clustering.cluster_centers_[:, 0], clustering.cluster_centers_[:, -1], s = 85, c = \"black\")\n",
    "plt.ylabel(\"Tesla Stock Price (TSLA)\")\n",
    "plt.xlabel(\"Days Public\")\n",
    "#Create and plot the trendline\n",
    "z = np.polyfit(clustering.cluster_centers_[:, 0], clustering.cluster_centers_[:, -1], 1)\n",
    "p = np.poly1d(z)\n",
    "#plt.plot(x[:, 0], p(x[:, 0]), linewidth = 3, c = \"gray\")\n",
    "plt.title(\"K-Means Clusters on Tesla Stock (TSLA)\")"
   ]
  },
  {
   "cell_type": "code",
   "execution_count": null,
   "metadata": {},
   "outputs": [],
   "source": []
  }
 ],
 "metadata": {
  "kernelspec": {
   "display_name": "Python 3",
   "language": "python",
   "name": "python3"
  },
  "language_info": {
   "codemirror_mode": {
    "name": "ipython",
    "version": 3
   },
   "file_extension": ".py",
   "mimetype": "text/x-python",
   "name": "python",
   "nbconvert_exporter": "python",
   "pygments_lexer": "ipython3",
   "version": "3.8.3"
  }
 },
 "nbformat": 4,
 "nbformat_minor": 4
}
